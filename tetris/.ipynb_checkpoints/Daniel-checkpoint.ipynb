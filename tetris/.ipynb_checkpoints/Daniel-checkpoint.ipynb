{
 "cells": [
  {
   "cell_type": "code",
   "execution_count": 1,
   "metadata": {},
   "outputs": [],
   "source": [
    "import io\n",
    "import time\n",
    "import numpy as np\n",
    "import matplotlib.pyplot\n",
    "import matplotlib.animation as animation\n",
    "import ipywidgets as widgets\n",
    "import random"
   ]
  },
  {
   "cell_type": "code",
   "execution_count": 2,
   "metadata": {
    "scrolled": false
   },
   "outputs": [
    {
     "data": {
      "application/vnd.jupyter.widget-view+json": {
       "model_id": "b5a07adac0f74614880e7ed9ded9205f",
       "version_major": 2,
       "version_minor": 0
      },
      "text/plain": [
       "Image(value=b'')"
      ]
     },
     "metadata": {},
     "output_type": "display_data"
    }
   ],
   "source": [
    "image = b\"\"\n",
    "output = widgets.Image(value=image, format='png')\n",
    "output"
   ]
  },
  {
   "cell_type": "code",
   "execution_count": 3,
   "metadata": {},
   "outputs": [],
   "source": [
    "def move_piece(game, pos, lower_pos):\n",
    "    for i in pos:\n",
    "        game[i[0], i[1]] = 0\n",
    "        i[0] += 1\n",
    "    for i in pos:\n",
    "        game[i[0], i[1]] = 1\n",
    "    for i in lower_pos:\n",
    "        i[0] += 1"
   ]
  },
  {
   "cell_type": "code",
   "execution_count": 4,
   "metadata": {},
   "outputs": [],
   "source": [
    "def create_piece(game):\n",
    "    num = random.randrange(1)\n",
    "    pos = []\n",
    "    lower_pos = []\n",
    "    if num == 0:\n",
    "        pos = [[0, 0], [0, 1], [0, 2], [0, 3]]\n",
    "        lower_pos = [[0, 0], [0, 1], [0, 2], [0, 3]]\n",
    "        game[0, 0] = 1\n",
    "        game[0, 1] = 1\n",
    "        game[0, 2] = 1\n",
    "        game[0, 3] = 1\n",
    "    elif num == 1:\n",
    "        pos = [[0, 0], [0, 1], [1, 0], [1, 1]]\n",
    "        lower_pos = [[1, 0], [1, 1]]\n",
    "        game[0, 0] = 1\n",
    "        game[0, 1] = 1\n",
    "        game[1, 0] = 1\n",
    "        game[1, 1] = 1\n",
    "    return pos, lower_pos"
   ]
  },
  {
   "cell_type": "code",
   "execution_count": 7,
   "metadata": {},
   "outputs": [],
   "source": [
    "def piece_landed(game, lower_pos):\n",
    "    for i in lower_pos:\n",
    "        if i[0]+1 == game.shape[0] or game[i[0]+1, i[1]] == 1: return True"
   ]
  },
  {
   "cell_type": "code",
   "execution_count": null,
   "metadata": {},
   "outputs": [],
   "source": [
    "def game_over(game):\n",
    "    for col in range(game.shape[1]):\n",
    "        if(game[1, col] == 1): return True"
   ]
  },
  {
   "cell_type": "code",
   "execution_count": null,
   "metadata": {},
   "outputs": [],
   "source": [
    "def score(game):\n",
    "    for row in range(game.shape[0]):\n",
    "        scored_row = True\n",
    "        for col in range(game.shape[1]):\n",
    "            if(game[row, col] == 0):\n",
    "                scored_row = False\n",
    "                break\n",
    "        if(scored_row):\n",
    "            game[row, :] = 0\n",
    "            for i in reversed(range(0, row)):\n",
    "                for j in range(game.shape[1]):\n",
    "                    if(game[i, j] == 1):\n",
    "                        game[i, j] = 0\n",
    "                        game[i+1, j] = 1"
   ]
  },
  {
   "cell_type": "code",
   "execution_count": null,
   "metadata": {},
   "outputs": [],
   "source": [
    "def move_left(game, pos, lower_pos):\n",
    "    possible = True\n",
    "    for i in pos:\n",
    "        if i[1] == 0:\n",
    "            possible = False\n",
    "    if possible:\n",
    "        for i in pos:\n",
    "            game[i[0], i[1]] = 0\n",
    "        for i in pos:\n",
    "            i[1] -= 1\n",
    "            game[i[0], i[1]] = 1\n",
    "        for i in lower_pos:\n",
    "            i[1] -= 1"
   ]
  },
  {
   "cell_type": "code",
   "execution_count": null,
   "metadata": {},
   "outputs": [],
   "source": [
    "def move_right(game, pos, lower_pos):\n",
    "    possible = True\n",
    "    for i in pos:\n",
    "        if i[1] == game.shape[1]-1:\n",
    "            possible = False\n",
    "    if possible:\n",
    "        for i in pos:\n",
    "            game[i[0], i[1]] = 0\n",
    "        for i in pos:\n",
    "            i[1] += 1\n",
    "            game[i[0], i[1]] = 1\n",
    "        for i in lower_pos:\n",
    "            i[1] += 1"
   ]
  },
  {
   "cell_type": "code",
   "execution_count": null,
   "metadata": {
    "scrolled": false
   },
   "outputs": [],
   "source": [
    "game = np.zeros((24, 12))\n",
    "game[game.shape[0]-1] = [1, 1, 1, 1, 1, 1, 1, 1, 0, 0, 0, 0]\n",
    "game[game.shape[0]-2] = [1, 1, 1, 1, 1, 1, 1, 1, 0, 0, 0, 0]\n",
    "pos, lower_pos = create_piece(game)\n",
    "i = 0\n",
    "while(True):\n",
    "    if(piece_landed(game, lower_pos)):\n",
    "        if(game_over(game)):\n",
    "            game = np.zeros((24, 10))\n",
    "        score(game)\n",
    "        pos, lower_pos = create_piece(game)\n",
    "    move_right(game, pos, lower_pos)\n",
    "    move_piece(game, pos, lower_pos)\n",
    "    \n",
    "    if(i % 2 == 0):\n",
    "        fig, ax = matplotlib.pyplot.subplots(2, 1, figsize=(15, 15))\n",
    "        ax[0].imshow(game)\n",
    "        ax[1].plot(np.sum(game, axis=1))\n",
    "        filelike = io.BytesIO()\n",
    "        fig.savefig(filelike)\n",
    "        matplotlib.pyplot.close()\n",
    "        output.value = filelike.getvalue()\n",
    "    i += 1"
   ]
  }
 ],
 "metadata": {
  "kernelspec": {
   "display_name": "Python 3",
   "language": "python",
   "name": "python3"
  },
  "language_info": {
   "codemirror_mode": {
    "name": "ipython",
    "version": 3
   },
   "file_extension": ".py",
   "mimetype": "text/x-python",
   "name": "python",
   "nbconvert_exporter": "python",
   "pygments_lexer": "ipython3",
   "version": "3.8.5"
  }
 },
 "nbformat": 4,
 "nbformat_minor": 4
}
