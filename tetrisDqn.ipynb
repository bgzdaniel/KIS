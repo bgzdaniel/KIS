{
  "nbformat": 4,
  "nbformat_minor": 0,
  "metadata": {
    "colab": {
      "name": "tetrisDqn.ipynb",
      "provenance": [],
      "collapsed_sections": []
    },
    "kernelspec": {
      "name": "python3",
      "display_name": "Python 3"
    },
    "language_info": {
      "name": "python"
    },
    "accelerator": "GPU"
  },
  "cells": [
    {
      "cell_type": "code",
      "metadata": {
        "id": "apnneFvdBGIe",
        "colab": {
          "base_uri": "https://localhost:8080/"
        },
        "outputId": "fb299591-3f6b-4b10-ecad-aba62c9af28c"
      },
      "source": [
        "import torch\n",
        "from torch import nn\n",
        "from torch import optim\n",
        "from collections import namedtuple, deque\n",
        "import random\n",
        "import math\n",
        "from google.colab import widgets\n",
        "\n",
        "device = torch.device('cuda' if torch.cuda.is_available() else 'cpu')\n",
        "print('Using device:', device)"
      ],
      "execution_count": 1,
      "outputs": [
        {
          "output_type": "stream",
          "text": [
            "Using device: cpu\n"
          ],
          "name": "stdout"
        }
      ]
    },
    {
      "cell_type": "code",
      "metadata": {
        "id": "SARNkYXXDb_l"
      },
      "source": [
        "def show_tetris_board(board):\n",
        "  result = \"\"\n",
        "  for row in board:\n",
        "    result += \"\".join([\" \" if a == 0 else \"#\" for a in row]) + \"\\n\"\n",
        "  return result"
      ],
      "execution_count": 2,
      "outputs": []
    },
    {
      "cell_type": "code",
      "metadata": {
        "colab": {
          "base_uri": "https://localhost:8080/"
        },
        "id": "TlHHNNNT5d2F",
        "outputId": "fc138676-b8b6-4bfe-a245-4ed1ba23e339"
      },
      "source": [
        "game_rows = 4 * 5\n",
        "game_cols = 4 * 2\n",
        "middle = math.floor(game_cols/2)\n",
        "\n",
        "Transition = namedtuple('Transition', ('state', 'action', 'next_state', 'reward'))\n",
        "\n",
        "class ExperienceReplay(object):\n",
        "    def __init__(self, capacity):\n",
        "        self.memory = deque([], maxlen=capacity)\n",
        "\n",
        "    def push(self, *args):\n",
        "        self.memory.append(Transition(*args))\n",
        "\n",
        "    def sample(self, batch_size):\n",
        "        return random.sample(self.memory, batch_size)\n",
        "\n",
        "    def __len__(self):\n",
        "        return len(self.memory)\n",
        "\n",
        "\n",
        "class DqnNet(nn.Module):\n",
        "  def __init__(self):\n",
        "    super(DqnNet, self).__init__()\n",
        "    self.feed = nn.Sequential(\n",
        "        nn.Conv2d(2, 32, 3, padding=1),\n",
        "        nn.Tanh(),\n",
        "        nn.MaxPool2d(2),\n",
        "        nn.Conv2d(32, 64, 3, padding=1),\n",
        "        nn.Tanh(),\n",
        "        nn.MaxPool2d(2),\n",
        "        nn.Flatten(),\n",
        "        nn.Linear(64 * (game_rows // 4) * (game_cols // 4), 256),\n",
        "        nn.Tanh(),\n",
        "        nn.Linear(256, 4),\n",
        "    )\n",
        "\n",
        "  def forward(self, x):\n",
        "    return self.feed(x)\n",
        "\n",
        "policy_net = DqnNet().to(device)\n",
        "print(f\"policy_net on cuda: {next(policy_net.parameters()).is_cuda}\")\n",
        "target_net = DqnNet().to(device)\n",
        "print(f\"target_net on cuda: {next(target_net.parameters()).is_cuda}\")\n",
        "target_net.load_state_dict(policy_net.state_dict())\n",
        "target_net.eval()\n",
        "loss_function = nn.SmoothL1Loss()  # Huber Loss\n",
        "optimizer = optim.RMSprop(policy_net.parameters(), lr=0.001)\n",
        "memory = ExperienceReplay(100000)"
      ],
      "execution_count": 3,
      "outputs": [
        {
          "output_type": "stream",
          "text": [
            "policy_net on cuda: False\n",
            "target_net on cuda: False\n"
          ],
          "name": "stdout"
        }
      ]
    },
    {
      "cell_type": "code",
      "metadata": {
        "colab": {
          "base_uri": "https://localhost:8080/",
          "height": 735
        },
        "id": "J5LxiOq0gDw8",
        "outputId": "35543be3-ffb3-47dc-d9e6-09a73d5755fd"
      },
      "source": [
        "def create_piece(state):\n",
        "  if random.random() > 0.5:\n",
        "    state[0, 0, 0, middle] = 1\n",
        "  else:\n",
        "    state[0, 0, 0, middle] = 1\n",
        "    state[0, 0, 0, middle-1] = 1\n",
        "    state[0, 0, 0, middle+1] = 1\n",
        "\n",
        "def turn_piece(state):\n",
        "    if state[0, 0].nonzero().numel() / 2 == 3:\n",
        "        a, b, c = state[0, 0].nonzero()[:, 0]\n",
        "        d, e, f = state[0, 0].nonzero()[:, 1]\n",
        "        if a == b == c:\n",
        "            if not piece_landed(state):\n",
        "                state[0, 0, b, d] = 0\n",
        "                state[0, 0, b, f] = 0\n",
        "                state[0, 0, b - 1, e] = 1\n",
        "                state[0, 0, b + 1, e] = 1\n",
        "        elif d == e == f:\n",
        "            if (not (0 in state[0, 0].nonzero()[:, 1])) and (\n",
        "                not (game_cols - 1 in state[0, 0].nonzero()[:, 1])\n",
        "            ):\n",
        "                if (\n",
        "                    state[0, 1, a, e - 1] != 1\n",
        "                    and state[0, 1, a, e + 1] != 1\n",
        "                    and state[0, 1, b, e - 1] != 1\n",
        "                    and state[0, 1, b, e + 1] != 1\n",
        "                    and state[0, 1, c, e - 1] != 1\n",
        "                    and state[0, 1, c, e + 1] != 1\n",
        "                ):\n",
        "                    state[0, 0, a, e] = 0\n",
        "                    state[0, 0, c, e] = 0\n",
        "                    state[0, 0, b, e - 1] = 1\n",
        "                    state[0, 0, b, e + 1] = 1\n",
        "\n",
        "def move_piece(state, action):\n",
        "  state[0, 0] = torch.roll(state[0, 0], 1, 0)\n",
        "  if action == 1:\n",
        "    if not(0 in state[0, 0].nonzero()[:, 1]):\n",
        "      state[0, 0] = torch.roll(state[0, 0], -1, 1)\n",
        "      if 2 in torch.sum(state, dim=1):\n",
        "        state[0, 0] = torch.roll(state[0, 0], 1, 1)\n",
        "  if action == 2:\n",
        "    if not(game_cols-1 in state[0, 0].nonzero()[:, 1]):\n",
        "      state[0, 0] = torch.roll(state[0, 0], 1, 1)\n",
        "      if 2 in torch.sum(state, dim=1):\n",
        "        state[0, 0] = torch.roll(state[0, 0], -1, 1)\n",
        "  if action == 3:\n",
        "    turn_piece(state)\n",
        "\n",
        "def piece_landed(state):\n",
        "  landed = False\n",
        "  state[0, 0] = torch.roll(state[0, 0], 1, 0)\n",
        "  if 2 in torch.sum(state, dim=1):\n",
        "    landed = True\n",
        "  state[0, 0] = torch.roll(state[0, 0], -1, 0)\n",
        "  if game_rows-1 in torch.index_select(state[0, 0].nonzero(), 1, torch.tensor([0]).to(device)):\n",
        "    landed = True\n",
        "  return landed\n",
        "\n",
        "def transfer_piece(state):\n",
        "  state[0, 1] = torch.sum(state, dim=1)\n",
        "  state[0, 0] = 0\n",
        "\n",
        "def game_over():\n",
        "  return True if torch.sum(state[0, 1, 1, :]).item() > 0 else False\n",
        "\n",
        "def restart_game():\n",
        "  state = torch.zeros(1, 2, game_rows, game_cols)\n",
        "  state = state.to(device)\n",
        "  create_piece(state)\n",
        "  return state\n",
        "\n",
        "def score(state):\n",
        "  scored_rows = 0\n",
        "  for row in range(game_rows):\n",
        "    if torch.sum(state[0, 1, row, :]) == game_cols:\n",
        "      scored_rows += 1\n",
        "      tmp = torch.clone(state)\n",
        "      state[0, 1, 1:row+1, :] = tmp[0, 1, 0:row, :]\n",
        "  return scored_rows\n",
        "\n",
        "def evaluate(state):\n",
        "  reward = 0\n",
        "  # give reward according to which row the piece is. The further the piece progressed, the higher the reward\n",
        "  reward += torch.max(state[0, 0].nonzero()[:, 0]).item() / 5\n",
        "  # give reward according to how many pieces are below the currently moving piece. The more pieces the higher the negative reward\n",
        "  curr_piece_cols = state[0, 0].nonzero()[:, 1]\n",
        "  reward -= (torch.sum(torch.unsqueeze(torch.sum(state[0, 1], 0), 0)[:, curr_piece_cols]) / curr_piece_cols.numel()).item() / 3\n",
        "  return reward\n",
        "\n",
        "epsilon = 1\n",
        "epsilon_end = 0.05\n",
        "decay = 0.999\n",
        "discount = 0.9\n",
        "random.seed()\n",
        "\n",
        "def select_action(state):\n",
        "  global epsilon\n",
        "  rand = random.random()\n",
        "  if rand <= epsilon:\n",
        "      action = random.randint(0, 3)\n",
        "      if epsilon > epsilon_end:\n",
        "        epsilon *= decay\n",
        "  else:\n",
        "      with torch.no_grad():\n",
        "          predictions = policy_net(state)\n",
        "      action = torch.argmax(predictions).item()\n",
        "  return action\n",
        "\n",
        "def update(loss_function, optimizer):\n",
        "  if(len(memory) < batch_size):\n",
        "    return\n",
        "  replays = memory.sample(batch_size)\n",
        "  # calculate predictions\n",
        "  replays_states = torch.cat([replay.state for replay in replays])\n",
        "  replays_actions = torch.unsqueeze(torch.tensor([replay.action for replay in replays]).to(device), 1)\n",
        "  predictions = torch.gather(policy_net(replays_states), 1, replays_actions)\n",
        "  # calculate targets\n",
        "  replays_next_states = torch.cat([replay.next_state for replay in replays])\n",
        "  replays_rewards = torch.unsqueeze(torch.tensor([replay.reward for replay in replays]).to(device), 1)\n",
        "  targets = replays_rewards + discount * torch.unsqueeze(torch.max(target_net(replays_next_states), 1).values, 1)\n",
        "  # calculate loss and backpropagate\n",
        "  loss = loss_function(predictions, targets)\n",
        "  optimizer.zero_grad()\n",
        "  loss.backward()\n",
        "  optimizer.step()\n",
        "  return loss\n",
        "\n",
        "batch_size = 256\n",
        "update_iter = 0\n",
        "update_step = 16\n",
        "copy_weights_iter = 0\n",
        "copy_weights_step = update_step*10\n",
        "\n",
        "for epoch in range(10):\n",
        "\n",
        "  lost = 0\n",
        "  scored = 0\n",
        "  iteration = 0\n",
        "  loss = 0\n",
        "\n",
        "  out = widgets.Grid(1, 3)\n",
        "\n",
        "  state = restart_game()\n",
        "\n",
        "  for _ in range(100000):\n",
        "    reward = 0\n",
        "    old_state = torch.clone(state)\n",
        "    action = select_action(state)\n",
        "    move_piece(state, action)\n",
        "    reward += evaluate(state)\n",
        "    if piece_landed(state):\n",
        "      transfer_piece(state)\n",
        "      if game_over():\n",
        "        reward = -(game_rows-1)\n",
        "        lost += 1\n",
        "        state = restart_game()\n",
        "      else:\n",
        "        scored_rows = score(state)\n",
        "        scored += scored_rows\n",
        "        reward += scored_rows * game_cols\n",
        "        create_piece(state)\n",
        "\n",
        "    memory.push(old_state, action, torch.clone(state), reward)\n",
        "\n",
        "    if iteration % 1000 == 0 and lost != 0:\n",
        "      with out.output_to(0, 0):\n",
        "        out.clear_cell()\n",
        "        print(show_tetris_board(state[0][0]))\n",
        "\n",
        "      with out.output_to(0, 1):\n",
        "        out.clear_cell()\n",
        "        print(show_tetris_board(state[0][1]))\n",
        "\n",
        "      with out.output_to(0, 2):\n",
        "        out.clear_cell()\n",
        "        print(f\"\"\"\n",
        "          epoch: {epoch}\n",
        "          iteration: {iteration}\n",
        "          epsilon: {epsilon}\n",
        "          action: {action}\n",
        "          reward: {reward}\n",
        "          loss (last update): {loss}\n",
        "          lost: {lost}\n",
        "          scored: {scored}\n",
        "          average wins per game: {scored / lost}\"\"\")\n",
        "\n",
        "    if update_iter == update_step:\n",
        "      loss = update(loss_function, optimizer)\n",
        "      update_iter = 0\n",
        "    update_iter += 1\n",
        "\n",
        "    if copy_weights_iter == copy_weights_step:\n",
        "      target_net.load_state_dict(policy_net.state_dict())\n",
        "      target_net.eval()\n",
        "      copy_weights_iter = 0\n",
        "    copy_weights_iter += 1\n",
        "        \n",
        "    iteration += 1"
      ],
      "execution_count": 4,
      "outputs": [
        {
          "output_type": "display_data",
          "data": {
            "text/html": [
              "<style>\n",
              "       table#id2, #id2 > tbody > tr > th, #id2 > tbody > tr > td {\n",
              "         border: 1px solid lightgray;\n",
              "         border-collapse:collapse;\n",
              "         \n",
              "        }</style>"
            ],
            "text/plain": [
              "<IPython.core.display.HTML object>"
            ]
          },
          "metadata": {
            "tags": [
              "outputarea_id2"
            ]
          }
        },
        {
          "output_type": "display_data",
          "data": {
            "text/html": [
              "<table id=id2><tr><td id=id2-0-0></td><td id=id2-0-1></td><td id=id2-0-2></td></tr></table>"
            ],
            "text/plain": [
              "<IPython.core.display.HTML object>"
            ]
          },
          "metadata": {
            "tags": [
              "outputarea_id2"
            ]
          }
        },
        {
          "output_type": "display_data",
          "data": {
            "application/javascript": [
              "window[\"8a93071e-c4a6-11eb-9a1e-0242ac1c0002\"] = google.colab.output.getActiveOutputArea();\n",
              "//# sourceURL=js_a78fab6d7b"
            ],
            "text/plain": [
              "<IPython.core.display.Javascript object>"
            ]
          },
          "metadata": {
            "tags": [
              "id2-0-0",
              "outputarea_id2"
            ]
          }
        },
        {
          "output_type": "display_data",
          "data": {
            "application/javascript": [
              "window[\"8a93d7ca-c4a6-11eb-9a1e-0242ac1c0002\"] = document.querySelector(\"#id2-0-0\");\n",
              "//# sourceURL=js_0063ee406a"
            ],
            "text/plain": [
              "<IPython.core.display.Javascript object>"
            ]
          },
          "metadata": {
            "tags": [
              "id2-0-0",
              "outputarea_id2"
            ]
          }
        },
        {
          "output_type": "display_data",
          "data": {
            "application/javascript": [
              "window[\"8a944f70-c4a6-11eb-9a1e-0242ac1c0002\"] = google.colab.output.setActiveOutputArea(window[\"8a93d7ca-c4a6-11eb-9a1e-0242ac1c0002\"]);\n",
              "//# sourceURL=js_927ed56c30"
            ],
            "text/plain": [
              "<IPython.core.display.Javascript object>"
            ]
          },
          "metadata": {
            "tags": [
              "id2-0-0",
              "outputarea_id2"
            ]
          }
        },
        {
          "output_type": "display_data",
          "data": {
            "application/javascript": [
              "window[\"8a97030a-c4a6-11eb-9a1e-0242ac1c0002\"] = google.colab.output.setActiveOutputArea(window[\"8a93071e-c4a6-11eb-9a1e-0242ac1c0002\"]);\n",
              "//# sourceURL=js_31911fe5d6"
            ],
            "text/plain": [
              "<IPython.core.display.Javascript object>"
            ]
          },
          "metadata": {
            "tags": [
              "id2-0-0",
              "outputarea_id2"
            ]
          }
        },
        {
          "output_type": "display_data",
          "data": {
            "application/javascript": [
              "window[\"8a99914c-c4a6-11eb-9a1e-0242ac1c0002\"] = google.colab.output.getActiveOutputArea();\n",
              "//# sourceURL=js_ba184aae31"
            ],
            "text/plain": [
              "<IPython.core.display.Javascript object>"
            ]
          },
          "metadata": {
            "tags": [
              "id2-0-1",
              "outputarea_id2"
            ]
          }
        },
        {
          "output_type": "display_data",
          "data": {
            "application/javascript": [
              "window[\"8a99e750-c4a6-11eb-9a1e-0242ac1c0002\"] = document.querySelector(\"#id2-0-1\");\n",
              "//# sourceURL=js_7087ed422c"
            ],
            "text/plain": [
              "<IPython.core.display.Javascript object>"
            ]
          },
          "metadata": {
            "tags": [
              "id2-0-1",
              "outputarea_id2"
            ]
          }
        },
        {
          "output_type": "display_data",
          "data": {
            "application/javascript": [
              "window[\"8a9a3d72-c4a6-11eb-9a1e-0242ac1c0002\"] = google.colab.output.setActiveOutputArea(window[\"8a99e750-c4a6-11eb-9a1e-0242ac1c0002\"]);\n",
              "//# sourceURL=js_0bc23a190a"
            ],
            "text/plain": [
              "<IPython.core.display.Javascript object>"
            ]
          },
          "metadata": {
            "tags": [
              "id2-0-1",
              "outputarea_id2"
            ]
          }
        },
        {
          "output_type": "display_data",
          "data": {
            "application/javascript": [
              "window[\"8a9c300a-c4a6-11eb-9a1e-0242ac1c0002\"] = google.colab.output.setActiveOutputArea(window[\"8a99914c-c4a6-11eb-9a1e-0242ac1c0002\"]);\n",
              "//# sourceURL=js_ea912bf682"
            ],
            "text/plain": [
              "<IPython.core.display.Javascript object>"
            ]
          },
          "metadata": {
            "tags": [
              "id2-0-1",
              "outputarea_id2"
            ]
          }
        },
        {
          "output_type": "display_data",
          "data": {
            "application/javascript": [
              "window[\"8a9e27a2-c4a6-11eb-9a1e-0242ac1c0002\"] = google.colab.output.getActiveOutputArea();\n",
              "//# sourceURL=js_b323158d8f"
            ],
            "text/plain": [
              "<IPython.core.display.Javascript object>"
            ]
          },
          "metadata": {
            "tags": [
              "id2-0-2",
              "outputarea_id2"
            ]
          }
        },
        {
          "output_type": "display_data",
          "data": {
            "application/javascript": [
              "window[\"8a9e84e0-c4a6-11eb-9a1e-0242ac1c0002\"] = document.querySelector(\"#id2-0-2\");\n",
              "//# sourceURL=js_2e16fdcaee"
            ],
            "text/plain": [
              "<IPython.core.display.Javascript object>"
            ]
          },
          "metadata": {
            "tags": [
              "id2-0-2",
              "outputarea_id2"
            ]
          }
        },
        {
          "output_type": "display_data",
          "data": {
            "application/javascript": [
              "window[\"8a9ed7ce-c4a6-11eb-9a1e-0242ac1c0002\"] = google.colab.output.setActiveOutputArea(window[\"8a9e84e0-c4a6-11eb-9a1e-0242ac1c0002\"]);\n",
              "//# sourceURL=js_383f3485b2"
            ],
            "text/plain": [
              "<IPython.core.display.Javascript object>"
            ]
          },
          "metadata": {
            "tags": [
              "id2-0-2",
              "outputarea_id2"
            ]
          }
        },
        {
          "output_type": "display_data",
          "data": {
            "application/javascript": [
              "window[\"8aa07048-c4a6-11eb-9a1e-0242ac1c0002\"] = google.colab.output.setActiveOutputArea(window[\"8a9e27a2-c4a6-11eb-9a1e-0242ac1c0002\"]);\n",
              "//# sourceURL=js_9d6070787c"
            ],
            "text/plain": [
              "<IPython.core.display.Javascript object>"
            ]
          },
          "metadata": {
            "tags": [
              "id2-0-2",
              "outputarea_id2"
            ]
          }
        },
        {
          "output_type": "display_data",
          "data": {
            "application/javascript": [
              "window[\"9027381c-c4a6-11eb-9a1e-0242ac1c0002\"] = google.colab.output.getActiveOutputArea();\n",
              "//# sourceURL=js_17b79d461d"
            ],
            "text/plain": [
              "<IPython.core.display.Javascript object>"
            ]
          },
          "metadata": {
            "tags": [
              "id2-0-0",
              "outputarea_id2"
            ]
          }
        },
        {
          "output_type": "display_data",
          "data": {
            "application/javascript": [
              "window[\"9027aa54-c4a6-11eb-9a1e-0242ac1c0002\"] = document.querySelector(\"#id2-0-0\");\n",
              "//# sourceURL=js_c20466d345"
            ],
            "text/plain": [
              "<IPython.core.display.Javascript object>"
            ]
          },
          "metadata": {
            "tags": [
              "id2-0-0",
              "outputarea_id2"
            ]
          }
        },
        {
          "output_type": "display_data",
          "data": {
            "application/javascript": [
              "window[\"90280454-c4a6-11eb-9a1e-0242ac1c0002\"] = google.colab.output.setActiveOutputArea(window[\"9027aa54-c4a6-11eb-9a1e-0242ac1c0002\"]);\n",
              "//# sourceURL=js_f714891bfa"
            ],
            "text/plain": [
              "<IPython.core.display.Javascript object>"
            ]
          },
          "metadata": {
            "tags": [
              "id2-0-0",
              "outputarea_id2"
            ]
          }
        },
        {
          "output_type": "display_data",
          "data": {
            "application/javascript": [
              "window[\"902af006-c4a6-11eb-9a1e-0242ac1c0002\"] = google.colab.output.setActiveOutputArea(window[\"9027381c-c4a6-11eb-9a1e-0242ac1c0002\"]);\n",
              "//# sourceURL=js_fa79476b12"
            ],
            "text/plain": [
              "<IPython.core.display.Javascript object>"
            ]
          },
          "metadata": {
            "tags": [
              "id2-0-0",
              "outputarea_id2"
            ]
          }
        },
        {
          "output_type": "display_data",
          "data": {
            "application/javascript": [
              "window[\"902d16d8-c4a6-11eb-9a1e-0242ac1c0002\"] = google.colab.output.getActiveOutputArea();\n",
              "//# sourceURL=js_257cb25a09"
            ],
            "text/plain": [
              "<IPython.core.display.Javascript object>"
            ]
          },
          "metadata": {
            "tags": [
              "id2-0-1",
              "outputarea_id2"
            ]
          }
        },
        {
          "output_type": "display_data",
          "data": {
            "application/javascript": [
              "window[\"902d685e-c4a6-11eb-9a1e-0242ac1c0002\"] = document.querySelector(\"#id2-0-1\");\n",
              "//# sourceURL=js_6eca63f990"
            ],
            "text/plain": [
              "<IPython.core.display.Javascript object>"
            ]
          },
          "metadata": {
            "tags": [
              "id2-0-1",
              "outputarea_id2"
            ]
          }
        },
        {
          "output_type": "display_data",
          "data": {
            "application/javascript": [
              "window[\"902db674-c4a6-11eb-9a1e-0242ac1c0002\"] = google.colab.output.setActiveOutputArea(window[\"902d685e-c4a6-11eb-9a1e-0242ac1c0002\"]);\n",
              "//# sourceURL=js_ac979d8e19"
            ],
            "text/plain": [
              "<IPython.core.display.Javascript object>"
            ]
          },
          "metadata": {
            "tags": [
              "id2-0-1",
              "outputarea_id2"
            ]
          }
        },
        {
          "output_type": "display_data",
          "data": {
            "application/javascript": [
              "window[\"902f8094-c4a6-11eb-9a1e-0242ac1c0002\"] = google.colab.output.setActiveOutputArea(window[\"902d16d8-c4a6-11eb-9a1e-0242ac1c0002\"]);\n",
              "//# sourceURL=js_13e07838ab"
            ],
            "text/plain": [
              "<IPython.core.display.Javascript object>"
            ]
          },
          "metadata": {
            "tags": [
              "id2-0-1",
              "outputarea_id2"
            ]
          }
        },
        {
          "output_type": "display_data",
          "data": {
            "application/javascript": [
              "window[\"90314f8c-c4a6-11eb-9a1e-0242ac1c0002\"] = google.colab.output.getActiveOutputArea();\n",
              "//# sourceURL=js_d21d89de94"
            ],
            "text/plain": [
              "<IPython.core.display.Javascript object>"
            ]
          },
          "metadata": {
            "tags": [
              "id2-0-2",
              "outputarea_id2"
            ]
          }
        },
        {
          "output_type": "display_data",
          "data": {
            "application/javascript": [
              "window[\"9031a374-c4a6-11eb-9a1e-0242ac1c0002\"] = document.querySelector(\"#id2-0-2\");\n",
              "//# sourceURL=js_431a222d51"
            ],
            "text/plain": [
              "<IPython.core.display.Javascript object>"
            ]
          },
          "metadata": {
            "tags": [
              "id2-0-2",
              "outputarea_id2"
            ]
          }
        },
        {
          "output_type": "display_data",
          "data": {
            "application/javascript": [
              "window[\"9031fe8c-c4a6-11eb-9a1e-0242ac1c0002\"] = google.colab.output.setActiveOutputArea(window[\"9031a374-c4a6-11eb-9a1e-0242ac1c0002\"]);\n",
              "//# sourceURL=js_a0ea619c45"
            ],
            "text/plain": [
              "<IPython.core.display.Javascript object>"
            ]
          },
          "metadata": {
            "tags": [
              "id2-0-2",
              "outputarea_id2"
            ]
          }
        },
        {
          "output_type": "display_data",
          "data": {
            "application/javascript": [
              "window[\"90338c70-c4a6-11eb-9a1e-0242ac1c0002\"] = google.colab.output.setActiveOutputArea(window[\"90314f8c-c4a6-11eb-9a1e-0242ac1c0002\"]);\n",
              "//# sourceURL=js_dfb343b9d0"
            ],
            "text/plain": [
              "<IPython.core.display.Javascript object>"
            ]
          },
          "metadata": {
            "tags": [
              "id2-0-2",
              "outputarea_id2"
            ]
          }
        },
        {
          "output_type": "display_data",
          "data": {
            "application/javascript": [
              "window[\"95f43d26-c4a6-11eb-9a1e-0242ac1c0002\"] = google.colab.output.getActiveOutputArea();\n",
              "//# sourceURL=js_7673fe5a15"
            ],
            "text/plain": [
              "<IPython.core.display.Javascript object>"
            ]
          },
          "metadata": {
            "tags": [
              "id2-0-0",
              "outputarea_id2"
            ]
          }
        },
        {
          "output_type": "display_data",
          "data": {
            "application/javascript": [
              "window[\"95f4cf16-c4a6-11eb-9a1e-0242ac1c0002\"] = document.querySelector(\"#id2-0-0\");\n",
              "//# sourceURL=js_40590ff093"
            ],
            "text/plain": [
              "<IPython.core.display.Javascript object>"
            ]
          },
          "metadata": {
            "tags": [
              "id2-0-0",
              "outputarea_id2"
            ]
          }
        },
        {
          "output_type": "display_data",
          "data": {
            "application/javascript": [
              "window[\"95f53320-c4a6-11eb-9a1e-0242ac1c0002\"] = google.colab.output.setActiveOutputArea(window[\"95f4cf16-c4a6-11eb-9a1e-0242ac1c0002\"]);\n",
              "//# sourceURL=js_4fed39ccf5"
            ],
            "text/plain": [
              "<IPython.core.display.Javascript object>"
            ]
          },
          "metadata": {
            "tags": [
              "id2-0-0",
              "outputarea_id2"
            ]
          }
        },
        {
          "output_type": "display_data",
          "data": {
            "application/javascript": [
              "window[\"95f7e4b2-c4a6-11eb-9a1e-0242ac1c0002\"] = google.colab.output.setActiveOutputArea(window[\"95f43d26-c4a6-11eb-9a1e-0242ac1c0002\"]);\n",
              "//# sourceURL=js_8260f7a37d"
            ],
            "text/plain": [
              "<IPython.core.display.Javascript object>"
            ]
          },
          "metadata": {
            "tags": [
              "id2-0-0",
              "outputarea_id2"
            ]
          }
        },
        {
          "output_type": "display_data",
          "data": {
            "application/javascript": [
              "window[\"95f9e744-c4a6-11eb-9a1e-0242ac1c0002\"] = google.colab.output.getActiveOutputArea();\n",
              "//# sourceURL=js_5ce7217554"
            ],
            "text/plain": [
              "<IPython.core.display.Javascript object>"
            ]
          },
          "metadata": {
            "tags": [
              "id2-0-1",
              "outputarea_id2"
            ]
          }
        },
        {
          "output_type": "display_data",
          "data": {
            "application/javascript": [
              "window[\"95fa3bcc-c4a6-11eb-9a1e-0242ac1c0002\"] = document.querySelector(\"#id2-0-1\");\n",
              "//# sourceURL=js_59f5a097e6"
            ],
            "text/plain": [
              "<IPython.core.display.Javascript object>"
            ]
          },
          "metadata": {
            "tags": [
              "id2-0-1",
              "outputarea_id2"
            ]
          }
        },
        {
          "output_type": "display_data",
          "data": {
            "application/javascript": [
              "window[\"95fa8ed8-c4a6-11eb-9a1e-0242ac1c0002\"] = google.colab.output.setActiveOutputArea(window[\"95fa3bcc-c4a6-11eb-9a1e-0242ac1c0002\"]);\n",
              "//# sourceURL=js_457a66d90d"
            ],
            "text/plain": [
              "<IPython.core.display.Javascript object>"
            ]
          },
          "metadata": {
            "tags": [
              "id2-0-1",
              "outputarea_id2"
            ]
          }
        },
        {
          "output_type": "display_data",
          "data": {
            "application/javascript": [
              "window[\"95fc6582-c4a6-11eb-9a1e-0242ac1c0002\"] = google.colab.output.setActiveOutputArea(window[\"95f9e744-c4a6-11eb-9a1e-0242ac1c0002\"]);\n",
              "//# sourceURL=js_d44072c520"
            ],
            "text/plain": [
              "<IPython.core.display.Javascript object>"
            ]
          },
          "metadata": {
            "tags": [
              "id2-0-1",
              "outputarea_id2"
            ]
          }
        },
        {
          "output_type": "display_data",
          "data": {
            "application/javascript": [
              "window[\"95fe2c14-c4a6-11eb-9a1e-0242ac1c0002\"] = google.colab.output.getActiveOutputArea();\n",
              "//# sourceURL=js_6e866f97eb"
            ],
            "text/plain": [
              "<IPython.core.display.Javascript object>"
            ]
          },
          "metadata": {
            "tags": [
              "id2-0-2",
              "outputarea_id2"
            ]
          }
        },
        {
          "output_type": "display_data",
          "data": {
            "application/javascript": [
              "window[\"95fe8114-c4a6-11eb-9a1e-0242ac1c0002\"] = document.querySelector(\"#id2-0-2\");\n",
              "//# sourceURL=js_fbac467280"
            ],
            "text/plain": [
              "<IPython.core.display.Javascript object>"
            ]
          },
          "metadata": {
            "tags": [
              "id2-0-2",
              "outputarea_id2"
            ]
          }
        },
        {
          "output_type": "display_data",
          "data": {
            "application/javascript": [
              "window[\"95fed0ec-c4a6-11eb-9a1e-0242ac1c0002\"] = google.colab.output.setActiveOutputArea(window[\"95fe8114-c4a6-11eb-9a1e-0242ac1c0002\"]);\n",
              "//# sourceURL=js_cced6a9c5c"
            ],
            "text/plain": [
              "<IPython.core.display.Javascript object>"
            ]
          },
          "metadata": {
            "tags": [
              "id2-0-2",
              "outputarea_id2"
            ]
          }
        },
        {
          "output_type": "display_data",
          "data": {
            "application/javascript": [
              "window[\"9603a07c-c4a6-11eb-9a1e-0242ac1c0002\"] = google.colab.output.setActiveOutputArea(window[\"95fe2c14-c4a6-11eb-9a1e-0242ac1c0002\"]);\n",
              "//# sourceURL=js_63ee0fd40a"
            ],
            "text/plain": [
              "<IPython.core.display.Javascript object>"
            ]
          },
          "metadata": {
            "tags": [
              "id2-0-2",
              "outputarea_id2"
            ]
          }
        },
        {
          "output_type": "display_data",
          "data": {
            "application/javascript": [
              "window[\"9bcc3b2c-c4a6-11eb-9a1e-0242ac1c0002\"] = google.colab.output.getActiveOutputArea();\n",
              "//# sourceURL=js_46ac92d97e"
            ],
            "text/plain": [
              "<IPython.core.display.Javascript object>"
            ]
          },
          "metadata": {
            "tags": [
              "id2-0-0",
              "outputarea_id2"
            ]
          }
        },
        {
          "output_type": "display_data",
          "data": {
            "application/javascript": [
              "window[\"9bcca116-c4a6-11eb-9a1e-0242ac1c0002\"] = document.querySelector(\"#id2-0-0\");\n",
              "//# sourceURL=js_7df48c3bcc"
            ],
            "text/plain": [
              "<IPython.core.display.Javascript object>"
            ]
          },
          "metadata": {
            "tags": [
              "id2-0-0",
              "outputarea_id2"
            ]
          }
        },
        {
          "output_type": "display_data",
          "data": {
            "application/javascript": [
              "window[\"9bcd0070-c4a6-11eb-9a1e-0242ac1c0002\"] = google.colab.output.setActiveOutputArea(window[\"9bcca116-c4a6-11eb-9a1e-0242ac1c0002\"]);\n",
              "//# sourceURL=js_35e9edad6a"
            ],
            "text/plain": [
              "<IPython.core.display.Javascript object>"
            ]
          },
          "metadata": {
            "tags": [
              "id2-0-0",
              "outputarea_id2"
            ]
          }
        },
        {
          "output_type": "display_data",
          "data": {
            "application/javascript": [
              "window[\"9bd04f00-c4a6-11eb-9a1e-0242ac1c0002\"] = google.colab.output.setActiveOutputArea(window[\"9bcc3b2c-c4a6-11eb-9a1e-0242ac1c0002\"]);\n",
              "//# sourceURL=js_da7c813639"
            ],
            "text/plain": [
              "<IPython.core.display.Javascript object>"
            ]
          },
          "metadata": {
            "tags": [
              "id2-0-0",
              "outputarea_id2"
            ]
          }
        },
        {
          "output_type": "display_data",
          "data": {
            "application/javascript": [
              "window[\"9bd27f50-c4a6-11eb-9a1e-0242ac1c0002\"] = google.colab.output.getActiveOutputArea();\n",
              "//# sourceURL=js_abcb760297"
            ],
            "text/plain": [
              "<IPython.core.display.Javascript object>"
            ]
          },
          "metadata": {
            "tags": [
              "id2-0-1",
              "outputarea_id2"
            ]
          }
        },
        {
          "output_type": "display_data",
          "data": {
            "application/javascript": [
              "window[\"9bd2d7a2-c4a6-11eb-9a1e-0242ac1c0002\"] = document.querySelector(\"#id2-0-1\");\n",
              "//# sourceURL=js_9a8eaecbc4"
            ],
            "text/plain": [
              "<IPython.core.display.Javascript object>"
            ]
          },
          "metadata": {
            "tags": [
              "id2-0-1",
              "outputarea_id2"
            ]
          }
        },
        {
          "output_type": "display_data",
          "data": {
            "application/javascript": [
              "window[\"9bd31e42-c4a6-11eb-9a1e-0242ac1c0002\"] = google.colab.output.setActiveOutputArea(window[\"9bd2d7a2-c4a6-11eb-9a1e-0242ac1c0002\"]);\n",
              "//# sourceURL=js_3d22004577"
            ],
            "text/plain": [
              "<IPython.core.display.Javascript object>"
            ]
          },
          "metadata": {
            "tags": [
              "id2-0-1",
              "outputarea_id2"
            ]
          }
        },
        {
          "output_type": "display_data",
          "data": {
            "application/javascript": [
              "window[\"9bd4bb4e-c4a6-11eb-9a1e-0242ac1c0002\"] = google.colab.output.setActiveOutputArea(window[\"9bd27f50-c4a6-11eb-9a1e-0242ac1c0002\"]);\n",
              "//# sourceURL=js_8bba4764c9"
            ],
            "text/plain": [
              "<IPython.core.display.Javascript object>"
            ]
          },
          "metadata": {
            "tags": [
              "id2-0-1",
              "outputarea_id2"
            ]
          }
        },
        {
          "output_type": "display_data",
          "data": {
            "application/javascript": [
              "window[\"9bd65fb2-c4a6-11eb-9a1e-0242ac1c0002\"] = google.colab.output.getActiveOutputArea();\n",
              "//# sourceURL=js_360315c023"
            ],
            "text/plain": [
              "<IPython.core.display.Javascript object>"
            ]
          },
          "metadata": {
            "tags": [
              "id2-0-2",
              "outputarea_id2"
            ]
          }
        },
        {
          "output_type": "display_data",
          "data": {
            "application/javascript": [
              "window[\"9bd6bed0-c4a6-11eb-9a1e-0242ac1c0002\"] = document.querySelector(\"#id2-0-2\");\n",
              "//# sourceURL=js_5a9054ac20"
            ],
            "text/plain": [
              "<IPython.core.display.Javascript object>"
            ]
          },
          "metadata": {
            "tags": [
              "id2-0-2",
              "outputarea_id2"
            ]
          }
        },
        {
          "output_type": "display_data",
          "data": {
            "application/javascript": [
              "window[\"9bd71754-c4a6-11eb-9a1e-0242ac1c0002\"] = google.colab.output.setActiveOutputArea(window[\"9bd6bed0-c4a6-11eb-9a1e-0242ac1c0002\"]);\n",
              "//# sourceURL=js_c0fe2c8568"
            ],
            "text/plain": [
              "<IPython.core.display.Javascript object>"
            ]
          },
          "metadata": {
            "tags": [
              "id2-0-2",
              "outputarea_id2"
            ]
          }
        },
        {
          "output_type": "display_data",
          "data": {
            "application/javascript": [
              "window[\"9bd869b0-c4a6-11eb-9a1e-0242ac1c0002\"] = google.colab.output.setActiveOutputArea(window[\"9bd65fb2-c4a6-11eb-9a1e-0242ac1c0002\"]);\n",
              "//# sourceURL=js_12b71e3db3"
            ],
            "text/plain": [
              "<IPython.core.display.Javascript object>"
            ]
          },
          "metadata": {
            "tags": [
              "id2-0-2",
              "outputarea_id2"
            ]
          }
        },
        {
          "output_type": "display_data",
          "data": {
            "application/javascript": [
              "window[\"a1d97aa2-c4a6-11eb-9a1e-0242ac1c0002\"] = google.colab.output.getActiveOutputArea();\n",
              "//# sourceURL=js_549e7babbb"
            ],
            "text/plain": [
              "<IPython.core.display.Javascript object>"
            ]
          },
          "metadata": {
            "tags": [
              "id2-0-0",
              "outputarea_id2"
            ]
          }
        },
        {
          "output_type": "display_data",
          "data": {
            "application/javascript": [
              "window[\"a1da5620-c4a6-11eb-9a1e-0242ac1c0002\"] = document.querySelector(\"#id2-0-0\");\n",
              "//# sourceURL=js_ccc619566a"
            ],
            "text/plain": [
              "<IPython.core.display.Javascript object>"
            ]
          },
          "metadata": {
            "tags": [
              "id2-0-0",
              "outputarea_id2"
            ]
          }
        },
        {
          "output_type": "display_data",
          "data": {
            "application/javascript": [
              "window[\"a1dabb42-c4a6-11eb-9a1e-0242ac1c0002\"] = google.colab.output.setActiveOutputArea(window[\"a1da5620-c4a6-11eb-9a1e-0242ac1c0002\"]);\n",
              "//# sourceURL=js_7d607ab6df"
            ],
            "text/plain": [
              "<IPython.core.display.Javascript object>"
            ]
          },
          "metadata": {
            "tags": [
              "id2-0-0",
              "outputarea_id2"
            ]
          }
        },
        {
          "output_type": "display_data",
          "data": {
            "application/javascript": [
              "window[\"a1de34d4-c4a6-11eb-9a1e-0242ac1c0002\"] = google.colab.output.setActiveOutputArea(window[\"a1d97aa2-c4a6-11eb-9a1e-0242ac1c0002\"]);\n",
              "//# sourceURL=js_a296ef34fe"
            ],
            "text/plain": [
              "<IPython.core.display.Javascript object>"
            ]
          },
          "metadata": {
            "tags": [
              "id2-0-0",
              "outputarea_id2"
            ]
          }
        },
        {
          "output_type": "display_data",
          "data": {
            "application/javascript": [
              "window[\"a1e2c882-c4a6-11eb-9a1e-0242ac1c0002\"] = google.colab.output.getActiveOutputArea();\n",
              "//# sourceURL=js_7efba7c2d9"
            ],
            "text/plain": [
              "<IPython.core.display.Javascript object>"
            ]
          },
          "metadata": {
            "tags": [
              "id2-0-1",
              "outputarea_id2"
            ]
          }
        },
        {
          "output_type": "display_data",
          "data": {
            "application/javascript": [
              "window[\"a1e3766a-c4a6-11eb-9a1e-0242ac1c0002\"] = document.querySelector(\"#id2-0-1\");\n",
              "//# sourceURL=js_c22872ef39"
            ],
            "text/plain": [
              "<IPython.core.display.Javascript object>"
            ]
          },
          "metadata": {
            "tags": [
              "id2-0-1",
              "outputarea_id2"
            ]
          }
        },
        {
          "output_type": "display_data",
          "data": {
            "application/javascript": [
              "window[\"a1e43d52-c4a6-11eb-9a1e-0242ac1c0002\"] = google.colab.output.setActiveOutputArea(window[\"a1e3766a-c4a6-11eb-9a1e-0242ac1c0002\"]);\n",
              "//# sourceURL=js_9b5f056bbc"
            ],
            "text/plain": [
              "<IPython.core.display.Javascript object>"
            ]
          },
          "metadata": {
            "tags": [
              "id2-0-1",
              "outputarea_id2"
            ]
          }
        },
        {
          "output_type": "display_data",
          "data": {
            "application/javascript": [
              "window[\"a1e835b0-c4a6-11eb-9a1e-0242ac1c0002\"] = google.colab.output.setActiveOutputArea(window[\"a1e2c882-c4a6-11eb-9a1e-0242ac1c0002\"]);\n",
              "//# sourceURL=js_7cbdc2cdeb"
            ],
            "text/plain": [
              "<IPython.core.display.Javascript object>"
            ]
          },
          "metadata": {
            "tags": [
              "id2-0-1",
              "outputarea_id2"
            ]
          }
        },
        {
          "output_type": "display_data",
          "data": {
            "application/javascript": [
              "window[\"a1eb7a68-c4a6-11eb-9a1e-0242ac1c0002\"] = google.colab.output.getActiveOutputArea();\n",
              "//# sourceURL=js_cc17a13965"
            ],
            "text/plain": [
              "<IPython.core.display.Javascript object>"
            ]
          },
          "metadata": {
            "tags": [
              "id2-0-2",
              "outputarea_id2"
            ]
          }
        },
        {
          "output_type": "display_data",
          "data": {
            "application/javascript": [
              "window[\"a1ebcfa4-c4a6-11eb-9a1e-0242ac1c0002\"] = document.querySelector(\"#id2-0-2\");\n",
              "//# sourceURL=js_e1008cb9f5"
            ],
            "text/plain": [
              "<IPython.core.display.Javascript object>"
            ]
          },
          "metadata": {
            "tags": [
              "id2-0-2",
              "outputarea_id2"
            ]
          }
        },
        {
          "output_type": "display_data",
          "data": {
            "application/javascript": [
              "window[\"a1ec265c-c4a6-11eb-9a1e-0242ac1c0002\"] = google.colab.output.setActiveOutputArea(window[\"a1ebcfa4-c4a6-11eb-9a1e-0242ac1c0002\"]);\n",
              "//# sourceURL=js_395fc62200"
            ],
            "text/plain": [
              "<IPython.core.display.Javascript object>"
            ]
          },
          "metadata": {
            "tags": [
              "id2-0-2",
              "outputarea_id2"
            ]
          }
        },
        {
          "output_type": "display_data",
          "data": {
            "application/javascript": [
              "window[\"a1ee9676-c4a6-11eb-9a1e-0242ac1c0002\"] = google.colab.output.setActiveOutputArea(window[\"a1eb7a68-c4a6-11eb-9a1e-0242ac1c0002\"]);\n",
              "//# sourceURL=js_500bfe84e2"
            ],
            "text/plain": [
              "<IPython.core.display.Javascript object>"
            ]
          },
          "metadata": {
            "tags": [
              "id2-0-2",
              "outputarea_id2"
            ]
          }
        },
        {
          "output_type": "display_data",
          "data": {
            "application/javascript": [
              "window[\"a79c1382-c4a6-11eb-9a1e-0242ac1c0002\"] = google.colab.output.getActiveOutputArea();\n",
              "//# sourceURL=js_510620455f"
            ],
            "text/plain": [
              "<IPython.core.display.Javascript object>"
            ]
          },
          "metadata": {
            "tags": [
              "id2-0-0",
              "outputarea_id2"
            ]
          }
        },
        {
          "output_type": "display_data",
          "data": {
            "application/javascript": [
              "window[\"a79cafcc-c4a6-11eb-9a1e-0242ac1c0002\"] = document.querySelector(\"#id2-0-0\");\n",
              "//# sourceURL=js_f0c3d74bfc"
            ],
            "text/plain": [
              "<IPython.core.display.Javascript object>"
            ]
          },
          "metadata": {
            "tags": [
              "id2-0-0",
              "outputarea_id2"
            ]
          }
        },
        {
          "output_type": "display_data",
          "data": {
            "application/javascript": [
              "window[\"a79d5364-c4a6-11eb-9a1e-0242ac1c0002\"] = google.colab.output.setActiveOutputArea(window[\"a79cafcc-c4a6-11eb-9a1e-0242ac1c0002\"]);\n",
              "//# sourceURL=js_f441011b21"
            ],
            "text/plain": [
              "<IPython.core.display.Javascript object>"
            ]
          },
          "metadata": {
            "tags": [
              "id2-0-0",
              "outputarea_id2"
            ]
          }
        },
        {
          "output_type": "display_data",
          "data": {
            "application/javascript": [
              "window[\"a7a03944-c4a6-11eb-9a1e-0242ac1c0002\"] = google.colab.output.setActiveOutputArea(window[\"a79c1382-c4a6-11eb-9a1e-0242ac1c0002\"]);\n",
              "//# sourceURL=js_c7f3c428b4"
            ],
            "text/plain": [
              "<IPython.core.display.Javascript object>"
            ]
          },
          "metadata": {
            "tags": [
              "id2-0-0",
              "outputarea_id2"
            ]
          }
        },
        {
          "output_type": "display_data",
          "data": {
            "application/javascript": [
              "window[\"a7a24bd0-c4a6-11eb-9a1e-0242ac1c0002\"] = google.colab.output.getActiveOutputArea();\n",
              "//# sourceURL=js_7afeb077d2"
            ],
            "text/plain": [
              "<IPython.core.display.Javascript object>"
            ]
          },
          "metadata": {
            "tags": [
              "id2-0-1",
              "outputarea_id2"
            ]
          }
        },
        {
          "output_type": "display_data",
          "data": {
            "application/javascript": [
              "window[\"a7a29e96-c4a6-11eb-9a1e-0242ac1c0002\"] = document.querySelector(\"#id2-0-1\");\n",
              "//# sourceURL=js_71eecf9f89"
            ],
            "text/plain": [
              "<IPython.core.display.Javascript object>"
            ]
          },
          "metadata": {
            "tags": [
              "id2-0-1",
              "outputarea_id2"
            ]
          }
        },
        {
          "output_type": "display_data",
          "data": {
            "application/javascript": [
              "window[\"a7a2f0d0-c4a6-11eb-9a1e-0242ac1c0002\"] = google.colab.output.setActiveOutputArea(window[\"a7a29e96-c4a6-11eb-9a1e-0242ac1c0002\"]);\n",
              "//# sourceURL=js_7cf3b9e72b"
            ],
            "text/plain": [
              "<IPython.core.display.Javascript object>"
            ]
          },
          "metadata": {
            "tags": [
              "id2-0-1",
              "outputarea_id2"
            ]
          }
        },
        {
          "output_type": "display_data",
          "data": {
            "application/javascript": [
              "window[\"a7a4d850-c4a6-11eb-9a1e-0242ac1c0002\"] = google.colab.output.setActiveOutputArea(window[\"a7a24bd0-c4a6-11eb-9a1e-0242ac1c0002\"]);\n",
              "//# sourceURL=js_2882484138"
            ],
            "text/plain": [
              "<IPython.core.display.Javascript object>"
            ]
          },
          "metadata": {
            "tags": [
              "id2-0-1",
              "outputarea_id2"
            ]
          }
        },
        {
          "output_type": "display_data",
          "data": {
            "application/javascript": [
              "window[\"a7a6a978-c4a6-11eb-9a1e-0242ac1c0002\"] = google.colab.output.getActiveOutputArea();\n",
              "//# sourceURL=js_85094ff732"
            ],
            "text/plain": [
              "<IPython.core.display.Javascript object>"
            ]
          },
          "metadata": {
            "tags": [
              "id2-0-2",
              "outputarea_id2"
            ]
          }
        },
        {
          "output_type": "display_data",
          "data": {
            "application/javascript": [
              "window[\"a7a70648-c4a6-11eb-9a1e-0242ac1c0002\"] = document.querySelector(\"#id2-0-2\");\n",
              "//# sourceURL=js_3149a8385a"
            ],
            "text/plain": [
              "<IPython.core.display.Javascript object>"
            ]
          },
          "metadata": {
            "tags": [
              "id2-0-2",
              "outputarea_id2"
            ]
          }
        },
        {
          "output_type": "display_data",
          "data": {
            "application/javascript": [
              "window[\"a7a754c2-c4a6-11eb-9a1e-0242ac1c0002\"] = google.colab.output.setActiveOutputArea(window[\"a7a70648-c4a6-11eb-9a1e-0242ac1c0002\"]);\n",
              "//# sourceURL=js_0429dab9e5"
            ],
            "text/plain": [
              "<IPython.core.display.Javascript object>"
            ]
          },
          "metadata": {
            "tags": [
              "id2-0-2",
              "outputarea_id2"
            ]
          }
        },
        {
          "output_type": "display_data",
          "data": {
            "application/javascript": [
              "window[\"a7a8ac8c-c4a6-11eb-9a1e-0242ac1c0002\"] = google.colab.output.setActiveOutputArea(window[\"a7a6a978-c4a6-11eb-9a1e-0242ac1c0002\"]);\n",
              "//# sourceURL=js_4926cc12d2"
            ],
            "text/plain": [
              "<IPython.core.display.Javascript object>"
            ]
          },
          "metadata": {
            "tags": [
              "id2-0-2",
              "outputarea_id2"
            ]
          }
        },
        {
          "output_type": "display_data",
          "data": {
            "application/javascript": [
              "window[\"ad8cde48-c4a6-11eb-9a1e-0242ac1c0002\"] = google.colab.output.getActiveOutputArea();\n",
              "//# sourceURL=js_cb1a858cd3"
            ],
            "text/plain": [
              "<IPython.core.display.Javascript object>"
            ]
          },
          "metadata": {
            "tags": [
              "id2-0-0",
              "outputarea_id2"
            ]
          }
        },
        {
          "output_type": "display_data",
          "data": {
            "application/javascript": [
              "window[\"ad8dd456-c4a6-11eb-9a1e-0242ac1c0002\"] = document.querySelector(\"#id2-0-0\");\n",
              "//# sourceURL=js_4dec26bae8"
            ],
            "text/plain": [
              "<IPython.core.display.Javascript object>"
            ]
          },
          "metadata": {
            "tags": [
              "id2-0-0",
              "outputarea_id2"
            ]
          }
        },
        {
          "output_type": "display_data",
          "data": {
            "application/javascript": [
              "window[\"ad8e38ce-c4a6-11eb-9a1e-0242ac1c0002\"] = google.colab.output.setActiveOutputArea(window[\"ad8dd456-c4a6-11eb-9a1e-0242ac1c0002\"]);\n",
              "//# sourceURL=js_76352065dc"
            ],
            "text/plain": [
              "<IPython.core.display.Javascript object>"
            ]
          },
          "metadata": {
            "tags": [
              "id2-0-0",
              "outputarea_id2"
            ]
          }
        },
        {
          "output_type": "stream",
          "text": [
            "        \n",
            "        \n",
            "        \n",
            "        \n",
            "        \n",
            "        \n",
            "        \n",
            "        \n",
            "        \n",
            "        \n",
            "        \n",
            "        \n",
            "        \n",
            "        \n",
            "        \n",
            "        \n",
            "        \n",
            "        \n",
            "  #     \n",
            "        \n",
            "\n"
          ],
          "name": "stdout"
        },
        {
          "output_type": "display_data",
          "data": {
            "application/javascript": [
              "window[\"ad90bf0e-c4a6-11eb-9a1e-0242ac1c0002\"] = google.colab.output.setActiveOutputArea(window[\"ad8cde48-c4a6-11eb-9a1e-0242ac1c0002\"]);\n",
              "//# sourceURL=js_4223888235"
            ],
            "text/plain": [
              "<IPython.core.display.Javascript object>"
            ]
          },
          "metadata": {
            "tags": [
              "id2-0-0",
              "outputarea_id2"
            ]
          }
        },
        {
          "output_type": "display_data",
          "data": {
            "application/javascript": [
              "window[\"ad93a26e-c4a6-11eb-9a1e-0242ac1c0002\"] = google.colab.output.getActiveOutputArea();\n",
              "//# sourceURL=js_48a63d8768"
            ],
            "text/plain": [
              "<IPython.core.display.Javascript object>"
            ]
          },
          "metadata": {
            "tags": [
              "id2-0-1",
              "outputarea_id2"
            ]
          }
        },
        {
          "output_type": "display_data",
          "data": {
            "application/javascript": [
              "window[\"ad93e8d2-c4a6-11eb-9a1e-0242ac1c0002\"] = document.querySelector(\"#id2-0-1\");\n",
              "//# sourceURL=js_66a062ba84"
            ],
            "text/plain": [
              "<IPython.core.display.Javascript object>"
            ]
          },
          "metadata": {
            "tags": [
              "id2-0-1",
              "outputarea_id2"
            ]
          }
        },
        {
          "output_type": "display_data",
          "data": {
            "application/javascript": [
              "window[\"ad943df0-c4a6-11eb-9a1e-0242ac1c0002\"] = google.colab.output.setActiveOutputArea(window[\"ad93e8d2-c4a6-11eb-9a1e-0242ac1c0002\"]);\n",
              "//# sourceURL=js_1b863b8c3c"
            ],
            "text/plain": [
              "<IPython.core.display.Javascript object>"
            ]
          },
          "metadata": {
            "tags": [
              "id2-0-1",
              "outputarea_id2"
            ]
          }
        },
        {
          "output_type": "stream",
          "text": [
            "        \n",
            "        \n",
            "        \n",
            "        \n",
            "        \n",
            "        \n",
            "        \n",
            "        \n",
            "        \n",
            "        \n",
            "        \n",
            "        \n",
            "        \n",
            "        \n",
            "        \n",
            "        \n",
            "        \n",
            "     #  \n",
            "     #  \n",
            "     #  \n",
            "\n"
          ],
          "name": "stdout"
        },
        {
          "output_type": "display_data",
          "data": {
            "application/javascript": [
              "window[\"ad960e0a-c4a6-11eb-9a1e-0242ac1c0002\"] = google.colab.output.setActiveOutputArea(window[\"ad93a26e-c4a6-11eb-9a1e-0242ac1c0002\"]);\n",
              "//# sourceURL=js_7a5fb94da0"
            ],
            "text/plain": [
              "<IPython.core.display.Javascript object>"
            ]
          },
          "metadata": {
            "tags": [
              "id2-0-1",
              "outputarea_id2"
            ]
          }
        },
        {
          "output_type": "display_data",
          "data": {
            "application/javascript": [
              "window[\"ad97d122-c4a6-11eb-9a1e-0242ac1c0002\"] = google.colab.output.getActiveOutputArea();\n",
              "//# sourceURL=js_2fe60a837b"
            ],
            "text/plain": [
              "<IPython.core.display.Javascript object>"
            ]
          },
          "metadata": {
            "tags": [
              "id2-0-2",
              "outputarea_id2"
            ]
          }
        },
        {
          "output_type": "display_data",
          "data": {
            "application/javascript": [
              "window[\"ad982082-c4a6-11eb-9a1e-0242ac1c0002\"] = document.querySelector(\"#id2-0-2\");\n",
              "//# sourceURL=js_167d26c81b"
            ],
            "text/plain": [
              "<IPython.core.display.Javascript object>"
            ]
          },
          "metadata": {
            "tags": [
              "id2-0-2",
              "outputarea_id2"
            ]
          }
        },
        {
          "output_type": "display_data",
          "data": {
            "application/javascript": [
              "window[\"ad986c9a-c4a6-11eb-9a1e-0242ac1c0002\"] = google.colab.output.setActiveOutputArea(window[\"ad982082-c4a6-11eb-9a1e-0242ac1c0002\"]);\n",
              "//# sourceURL=js_e2342bf6f6"
            ],
            "text/plain": [
              "<IPython.core.display.Javascript object>"
            ]
          },
          "metadata": {
            "tags": [
              "id2-0-2",
              "outputarea_id2"
            ]
          }
        },
        {
          "output_type": "stream",
          "text": [
            "\n",
            "          epoch: 0\n",
            "          iteration: 7000\n",
            "          epsilon: 0.12668733098884255\n",
            "          action: 0\n",
            "          reward: 3.6\n",
            "          loss (last update): 0.7080455422401428\n",
            "          lost: 17\n",
            "          scored: 6\n",
            "          average wins per game: 0.35294117647058826\n"
          ],
          "name": "stdout"
        },
        {
          "output_type": "display_data",
          "data": {
            "application/javascript": [
              "window[\"ad99e624-c4a6-11eb-9a1e-0242ac1c0002\"] = google.colab.output.setActiveOutputArea(window[\"ad97d122-c4a6-11eb-9a1e-0242ac1c0002\"]);\n",
              "//# sourceURL=js_e3b0bc2a6a"
            ],
            "text/plain": [
              "<IPython.core.display.Javascript object>"
            ]
          },
          "metadata": {
            "tags": [
              "id2-0-2",
              "outputarea_id2"
            ]
          }
        },
        {
          "output_type": "error",
          "ename": "KeyboardInterrupt",
          "evalue": "ignored",
          "traceback": [
            "\u001b[0;31m---------------------------------------------------------------------------\u001b[0m",
            "\u001b[0;31mKeyboardInterrupt\u001b[0m                         Traceback (most recent call last)",
            "\u001b[0;32m<ipython-input-4-c65732ef2d6e>\u001b[0m in \u001b[0;36m<module>\u001b[0;34m()\u001b[0m\n\u001b[1;32m    188\u001b[0m \u001b[0;34m\u001b[0m\u001b[0m\n\u001b[1;32m    189\u001b[0m     \u001b[0;32mif\u001b[0m \u001b[0mupdate_iter\u001b[0m \u001b[0;34m==\u001b[0m \u001b[0mupdate_step\u001b[0m\u001b[0;34m:\u001b[0m\u001b[0;34m\u001b[0m\u001b[0;34m\u001b[0m\u001b[0m\n\u001b[0;32m--> 190\u001b[0;31m       \u001b[0mloss\u001b[0m \u001b[0;34m=\u001b[0m \u001b[0mupdate\u001b[0m\u001b[0;34m(\u001b[0m\u001b[0mloss_function\u001b[0m\u001b[0;34m,\u001b[0m \u001b[0moptimizer\u001b[0m\u001b[0;34m)\u001b[0m\u001b[0;34m\u001b[0m\u001b[0;34m\u001b[0m\u001b[0m\n\u001b[0m\u001b[1;32m    191\u001b[0m       \u001b[0mupdate_iter\u001b[0m \u001b[0;34m=\u001b[0m \u001b[0;36m0\u001b[0m\u001b[0;34m\u001b[0m\u001b[0;34m\u001b[0m\u001b[0m\n\u001b[1;32m    192\u001b[0m     \u001b[0mupdate_iter\u001b[0m \u001b[0;34m+=\u001b[0m \u001b[0;36m1\u001b[0m\u001b[0;34m\u001b[0m\u001b[0;34m\u001b[0m\u001b[0m\n",
            "\u001b[0;32m<ipython-input-4-c65732ef2d6e>\u001b[0m in \u001b[0;36mupdate\u001b[0;34m(loss_function, optimizer)\u001b[0m\n\u001b[1;32m    124\u001b[0m   \u001b[0mloss\u001b[0m \u001b[0;34m=\u001b[0m \u001b[0mloss_function\u001b[0m\u001b[0;34m(\u001b[0m\u001b[0mpredictions\u001b[0m\u001b[0;34m,\u001b[0m \u001b[0mtargets\u001b[0m\u001b[0;34m)\u001b[0m\u001b[0;34m\u001b[0m\u001b[0;34m\u001b[0m\u001b[0m\n\u001b[1;32m    125\u001b[0m   \u001b[0moptimizer\u001b[0m\u001b[0;34m.\u001b[0m\u001b[0mzero_grad\u001b[0m\u001b[0;34m(\u001b[0m\u001b[0;34m)\u001b[0m\u001b[0;34m\u001b[0m\u001b[0;34m\u001b[0m\u001b[0m\n\u001b[0;32m--> 126\u001b[0;31m   \u001b[0mloss\u001b[0m\u001b[0;34m.\u001b[0m\u001b[0mbackward\u001b[0m\u001b[0;34m(\u001b[0m\u001b[0;34m)\u001b[0m\u001b[0;34m\u001b[0m\u001b[0;34m\u001b[0m\u001b[0m\n\u001b[0m\u001b[1;32m    127\u001b[0m   \u001b[0moptimizer\u001b[0m\u001b[0;34m.\u001b[0m\u001b[0mstep\u001b[0m\u001b[0;34m(\u001b[0m\u001b[0;34m)\u001b[0m\u001b[0;34m\u001b[0m\u001b[0;34m\u001b[0m\u001b[0m\n\u001b[1;32m    128\u001b[0m   \u001b[0;32mreturn\u001b[0m \u001b[0mloss\u001b[0m\u001b[0;34m\u001b[0m\u001b[0;34m\u001b[0m\u001b[0m\n",
            "\u001b[0;32m/usr/local/lib/python3.7/dist-packages/torch/tensor.py\u001b[0m in \u001b[0;36mbackward\u001b[0;34m(self, gradient, retain_graph, create_graph, inputs)\u001b[0m\n\u001b[1;32m    243\u001b[0m                 \u001b[0mcreate_graph\u001b[0m\u001b[0;34m=\u001b[0m\u001b[0mcreate_graph\u001b[0m\u001b[0;34m,\u001b[0m\u001b[0;34m\u001b[0m\u001b[0;34m\u001b[0m\u001b[0m\n\u001b[1;32m    244\u001b[0m                 inputs=inputs)\n\u001b[0;32m--> 245\u001b[0;31m         \u001b[0mtorch\u001b[0m\u001b[0;34m.\u001b[0m\u001b[0mautograd\u001b[0m\u001b[0;34m.\u001b[0m\u001b[0mbackward\u001b[0m\u001b[0;34m(\u001b[0m\u001b[0mself\u001b[0m\u001b[0;34m,\u001b[0m \u001b[0mgradient\u001b[0m\u001b[0;34m,\u001b[0m \u001b[0mretain_graph\u001b[0m\u001b[0;34m,\u001b[0m \u001b[0mcreate_graph\u001b[0m\u001b[0;34m,\u001b[0m \u001b[0minputs\u001b[0m\u001b[0;34m=\u001b[0m\u001b[0minputs\u001b[0m\u001b[0;34m)\u001b[0m\u001b[0;34m\u001b[0m\u001b[0;34m\u001b[0m\u001b[0m\n\u001b[0m\u001b[1;32m    246\u001b[0m \u001b[0;34m\u001b[0m\u001b[0m\n\u001b[1;32m    247\u001b[0m     \u001b[0;32mdef\u001b[0m \u001b[0mregister_hook\u001b[0m\u001b[0;34m(\u001b[0m\u001b[0mself\u001b[0m\u001b[0;34m,\u001b[0m \u001b[0mhook\u001b[0m\u001b[0;34m)\u001b[0m\u001b[0;34m:\u001b[0m\u001b[0;34m\u001b[0m\u001b[0;34m\u001b[0m\u001b[0m\n",
            "\u001b[0;32m/usr/local/lib/python3.7/dist-packages/torch/autograd/__init__.py\u001b[0m in \u001b[0;36mbackward\u001b[0;34m(tensors, grad_tensors, retain_graph, create_graph, grad_variables, inputs)\u001b[0m\n\u001b[1;32m    145\u001b[0m     Variable._execution_engine.run_backward(\n\u001b[1;32m    146\u001b[0m         \u001b[0mtensors\u001b[0m\u001b[0;34m,\u001b[0m \u001b[0mgrad_tensors_\u001b[0m\u001b[0;34m,\u001b[0m \u001b[0mretain_graph\u001b[0m\u001b[0;34m,\u001b[0m \u001b[0mcreate_graph\u001b[0m\u001b[0;34m,\u001b[0m \u001b[0minputs\u001b[0m\u001b[0;34m,\u001b[0m\u001b[0;34m\u001b[0m\u001b[0;34m\u001b[0m\u001b[0m\n\u001b[0;32m--> 147\u001b[0;31m         allow_unreachable=True, accumulate_grad=True)  # allow_unreachable flag\n\u001b[0m\u001b[1;32m    148\u001b[0m \u001b[0;34m\u001b[0m\u001b[0m\n\u001b[1;32m    149\u001b[0m \u001b[0;34m\u001b[0m\u001b[0m\n",
            "\u001b[0;31mKeyboardInterrupt\u001b[0m: "
          ]
        }
      ]
    },
    {
      "cell_type": "code",
      "metadata": {
        "id": "dvPL4Z-D8qH2"
      },
      "source": [
        ""
      ],
      "execution_count": null,
      "outputs": []
    }
  ]
}